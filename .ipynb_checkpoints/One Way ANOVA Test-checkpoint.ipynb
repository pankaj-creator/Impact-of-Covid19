{
 "cells": [
  {
   "cell_type": "code",
   "execution_count": 2,
   "metadata": {},
   "outputs": [],
   "source": [
    "# Import libraries\n",
    "\n",
    "import pandas as pd\n",
    "import numpy as np\n",
    "\n",
    "import scipy.stats as stats\n",
    "import os\n",
    "import random\n",
    "\n",
    "import statsmodels.api as sm\n",
    "import statsmodels.stats.multicomp\n",
    "\n",
    "from statsmodels.formula.api import ols\n",
    "from statsmodels.stats.anova import anova_lm\n",
    "import matplotlib.pyplot as plt\n",
    "from scipy import stats\n",
    "import seaborn as sns\n",
    "\n"
   ]
  },
  {
   "cell_type": "code",
   "execution_count": 3,
   "metadata": {},
   "outputs": [],
   "source": [
    "#Load data\n",
    "StatewiseTestingDetails=pd.read_csv('./StatewiseTestingDetails.csv')\n",
    "population_india_census2011=pd.read_csv('./population_india_census2011.csv')"
   ]
  },
  {
   "cell_type": "code",
   "execution_count": 4,
   "metadata": {},
   "outputs": [
    {
     "data": {
      "text/html": [
       "<div>\n",
       "<style scoped>\n",
       "    .dataframe tbody tr th:only-of-type {\n",
       "        vertical-align: middle;\n",
       "    }\n",
       "\n",
       "    .dataframe tbody tr th {\n",
       "        vertical-align: top;\n",
       "    }\n",
       "\n",
       "    .dataframe thead th {\n",
       "        text-align: right;\n",
       "    }\n",
       "</style>\n",
       "<table border=\"1\" class=\"dataframe\">\n",
       "  <thead>\n",
       "    <tr style=\"text-align: right;\">\n",
       "      <th></th>\n",
       "      <th>Sno</th>\n",
       "      <th>State</th>\n",
       "      <th>Population</th>\n",
       "      <th>Rural population</th>\n",
       "      <th>Urban population</th>\n",
       "      <th>Area</th>\n",
       "      <th>Density</th>\n",
       "      <th>Gender Ratio</th>\n",
       "    </tr>\n",
       "  </thead>\n",
       "  <tbody>\n",
       "    <tr>\n",
       "      <th>0</th>\n",
       "      <td>1</td>\n",
       "      <td>Uttar Pradesh</td>\n",
       "      <td>199812341</td>\n",
       "      <td>155317278</td>\n",
       "      <td>44495063</td>\n",
       "      <td>240,928 km2 (93,023 sq mi)</td>\n",
       "      <td>828/km2 (2,140/sq mi)</td>\n",
       "      <td>912</td>\n",
       "    </tr>\n",
       "    <tr>\n",
       "      <th>1</th>\n",
       "      <td>2</td>\n",
       "      <td>Maharashtra</td>\n",
       "      <td>112374333</td>\n",
       "      <td>61556074</td>\n",
       "      <td>50818259</td>\n",
       "      <td>307,713 km2 (118,809 sq mi)</td>\n",
       "      <td>365/km2 (950/sq mi)</td>\n",
       "      <td>929</td>\n",
       "    </tr>\n",
       "    <tr>\n",
       "      <th>2</th>\n",
       "      <td>3</td>\n",
       "      <td>Bihar</td>\n",
       "      <td>104099452</td>\n",
       "      <td>92341436</td>\n",
       "      <td>11758016</td>\n",
       "      <td>94,163 km2 (36,357 sq mi)</td>\n",
       "      <td>1,102/km2 (2,850/sq mi)</td>\n",
       "      <td>918</td>\n",
       "    </tr>\n",
       "    <tr>\n",
       "      <th>3</th>\n",
       "      <td>4</td>\n",
       "      <td>West Bengal</td>\n",
       "      <td>91276115</td>\n",
       "      <td>62183113</td>\n",
       "      <td>29093002</td>\n",
       "      <td>88,752 km2 (34,267 sq mi)</td>\n",
       "      <td>1,029/km2 (2,670/sq mi)</td>\n",
       "      <td>953</td>\n",
       "    </tr>\n",
       "    <tr>\n",
       "      <th>4</th>\n",
       "      <td>5</td>\n",
       "      <td>Madhya Pradesh</td>\n",
       "      <td>72626809</td>\n",
       "      <td>52557404</td>\n",
       "      <td>20069405</td>\n",
       "      <td>308,245 km2 (119,014 sq mi)</td>\n",
       "      <td>236/km2 (610/sq mi)</td>\n",
       "      <td>931</td>\n",
       "    </tr>\n",
       "  </tbody>\n",
       "</table>\n",
       "</div>"
      ],
      "text/plain": [
       "   Sno           State  Population  Rural population  Urban population  \\\n",
       "0    1   Uttar Pradesh   199812341         155317278          44495063   \n",
       "1    2     Maharashtra   112374333          61556074          50818259   \n",
       "2    3           Bihar   104099452          92341436          11758016   \n",
       "3    4     West Bengal    91276115          62183113          29093002   \n",
       "4    5  Madhya Pradesh    72626809          52557404          20069405   \n",
       "\n",
       "                          Area                  Density  Gender Ratio  \n",
       "0   240,928 km2 (93,023 sq mi)    828/km2 (2,140/sq mi)           912  \n",
       "1  307,713 km2 (118,809 sq mi)      365/km2 (950/sq mi)           929  \n",
       "2    94,163 km2 (36,357 sq mi)  1,102/km2 (2,850/sq mi)           918  \n",
       "3    88,752 km2 (34,267 sq mi)  1,029/km2 (2,670/sq mi)           953  \n",
       "4  308,245 km2 (119,014 sq mi)      236/km2 (610/sq mi)           931  "
      ]
     },
     "execution_count": 4,
     "metadata": {},
     "output_type": "execute_result"
    }
   ],
   "source": [
    "population_india_census2011.head()"
   ]
  },
  {
   "cell_type": "code",
   "execution_count": 5,
   "metadata": {},
   "outputs": [
    {
     "data": {
      "text/html": [
       "<div>\n",
       "<style scoped>\n",
       "    .dataframe tbody tr th:only-of-type {\n",
       "        vertical-align: middle;\n",
       "    }\n",
       "\n",
       "    .dataframe tbody tr th {\n",
       "        vertical-align: top;\n",
       "    }\n",
       "\n",
       "    .dataframe thead th {\n",
       "        text-align: right;\n",
       "    }\n",
       "</style>\n",
       "<table border=\"1\" class=\"dataframe\">\n",
       "  <thead>\n",
       "    <tr style=\"text-align: right;\">\n",
       "      <th></th>\n",
       "      <th>Date</th>\n",
       "      <th>State</th>\n",
       "      <th>TotalSamples</th>\n",
       "      <th>Negative</th>\n",
       "      <th>Positive</th>\n",
       "    </tr>\n",
       "  </thead>\n",
       "  <tbody>\n",
       "    <tr>\n",
       "      <th>0</th>\n",
       "      <td>17-04-2020</td>\n",
       "      <td>Andaman and Nicobar Islands</td>\n",
       "      <td>1403</td>\n",
       "      <td>1210.0</td>\n",
       "      <td>12.0</td>\n",
       "    </tr>\n",
       "    <tr>\n",
       "      <th>1</th>\n",
       "      <td>24-04-2020</td>\n",
       "      <td>Andaman and Nicobar Islands</td>\n",
       "      <td>2679</td>\n",
       "      <td>NaN</td>\n",
       "      <td>27.0</td>\n",
       "    </tr>\n",
       "    <tr>\n",
       "      <th>2</th>\n",
       "      <td>27-04-2020</td>\n",
       "      <td>Andaman and Nicobar Islands</td>\n",
       "      <td>2848</td>\n",
       "      <td>NaN</td>\n",
       "      <td>33.0</td>\n",
       "    </tr>\n",
       "    <tr>\n",
       "      <th>3</th>\n",
       "      <td>01-05-2020</td>\n",
       "      <td>Andaman and Nicobar Islands</td>\n",
       "      <td>3754</td>\n",
       "      <td>NaN</td>\n",
       "      <td>33.0</td>\n",
       "    </tr>\n",
       "    <tr>\n",
       "      <th>4</th>\n",
       "      <td>02-04-2020</td>\n",
       "      <td>Andhra Pradesh</td>\n",
       "      <td>1800</td>\n",
       "      <td>1175.0</td>\n",
       "      <td>132.0</td>\n",
       "    </tr>\n",
       "  </tbody>\n",
       "</table>\n",
       "</div>"
      ],
      "text/plain": [
       "         Date                        State  TotalSamples  Negative  Positive\n",
       "0  17-04-2020  Andaman and Nicobar Islands          1403    1210.0      12.0\n",
       "1  24-04-2020  Andaman and Nicobar Islands          2679       NaN      27.0\n",
       "2  27-04-2020  Andaman and Nicobar Islands          2848       NaN      33.0\n",
       "3  01-05-2020  Andaman and Nicobar Islands          3754       NaN      33.0\n",
       "4  02-04-2020               Andhra Pradesh          1800    1175.0     132.0"
      ]
     },
     "execution_count": 5,
     "metadata": {},
     "output_type": "execute_result"
    }
   ],
   "source": [
    "StatewiseTestingDetails.head()"
   ]
  },
  {
   "cell_type": "code",
   "execution_count": 6,
   "metadata": {},
   "outputs": [
    {
     "data": {
      "text/plain": [
       "510    0.0\n",
       "501    0.0\n",
       "502    0.0\n",
       "503    0.0\n",
       "504    0.0\n",
       "Name: Positive, dtype: float64"
      ]
     },
     "execution_count": 6,
     "metadata": {},
     "output_type": "execute_result"
    }
   ],
   "source": [
    "StatewiseTestingDetails['Positive'].sort_values().head()"
   ]
  },
  {
   "cell_type": "code",
   "execution_count": 7,
   "metadata": {},
   "outputs": [
    {
     "data": {
      "text/plain": [
       "array(['Nagaland', 'Sikkim'], dtype=object)"
      ]
     },
     "execution_count": 7,
     "metadata": {},
     "output_type": "execute_result"
    }
   ],
   "source": [
    "#List down the states which have 0 corona cases\n",
    "StatewiseTestingDetails['State'][StatewiseTestingDetails['Positive']==0].unique()"
   ]
  },
  {
   "cell_type": "code",
   "execution_count": 8,
   "metadata": {},
   "outputs": [
    {
     "data": {
      "text/plain": [
       "array(['Arunachal Pradesh', 'Mizoram'], dtype=object)"
      ]
     },
     "execution_count": 8,
     "metadata": {},
     "output_type": "execute_result"
    }
   ],
   "source": [
    "#List down the states which have 1 corona cases\n",
    "StatewiseTestingDetails['State'][StatewiseTestingDetails['Positive']==1].unique()"
   ]
  },
  {
   "cell_type": "code",
   "execution_count": 9,
   "metadata": {},
   "outputs": [],
   "source": [
    "##We see that there're many entries with 0. That means no case has been detected. So we can add 1 in all entries.\n",
    "#So while perfroming any sort of Data transformation that involves log in it , won't give error.\n",
    "StatewiseTestingDetails['Positive']=StatewiseTestingDetails['Positive']+1"
   ]
  },
  {
   "cell_type": "code",
   "execution_count": 10,
   "metadata": {},
   "outputs": [
    {
     "data": {
      "text/plain": [
       "510    1.0\n",
       "501    1.0\n",
       "502    1.0\n",
       "503    1.0\n",
       "504    1.0\n",
       "      ... \n",
       "731    NaN\n",
       "732    NaN\n",
       "733    NaN\n",
       "734    NaN\n",
       "755    NaN\n",
       "Name: Positive, Length: 759, dtype: float64"
      ]
     },
     "execution_count": 10,
     "metadata": {},
     "output_type": "execute_result"
    }
   ],
   "source": [
    "StatewiseTestingDetails['Positive'].sort_values()"
   ]
  },
  {
   "cell_type": "code",
   "execution_count": 11,
   "metadata": {},
   "outputs": [
    {
     "data": {
      "text/html": [
       "<div>\n",
       "<style scoped>\n",
       "    .dataframe tbody tr th:only-of-type {\n",
       "        vertical-align: middle;\n",
       "    }\n",
       "\n",
       "    .dataframe tbody tr th {\n",
       "        vertical-align: top;\n",
       "    }\n",
       "\n",
       "    .dataframe thead th {\n",
       "        text-align: right;\n",
       "    }\n",
       "</style>\n",
       "<table border=\"1\" class=\"dataframe\">\n",
       "  <thead>\n",
       "    <tr style=\"text-align: right;\">\n",
       "      <th></th>\n",
       "      <th>State</th>\n",
       "      <th>Median</th>\n",
       "    </tr>\n",
       "  </thead>\n",
       "  <tbody>\n",
       "    <tr>\n",
       "      <th>0</th>\n",
       "      <td>Andaman and Nicobar Islands</td>\n",
       "      <td>31.0</td>\n",
       "    </tr>\n",
       "    <tr>\n",
       "      <th>1</th>\n",
       "      <td>Andhra Pradesh</td>\n",
       "      <td>814.0</td>\n",
       "    </tr>\n",
       "    <tr>\n",
       "      <th>2</th>\n",
       "      <td>Arunachal Pradesh</td>\n",
       "      <td>3.0</td>\n",
       "    </tr>\n",
       "    <tr>\n",
       "      <th>3</th>\n",
       "      <td>Assam</td>\n",
       "      <td>35.0</td>\n",
       "    </tr>\n",
       "    <tr>\n",
       "      <th>4</th>\n",
       "      <td>Bihar</td>\n",
       "      <td>106.5</td>\n",
       "    </tr>\n",
       "  </tbody>\n",
       "</table>\n",
       "</div>"
      ],
      "text/plain": [
       "                         State  Median\n",
       "0  Andaman and Nicobar Islands    31.0\n",
       "1               Andhra Pradesh   814.0\n",
       "2            Arunachal Pradesh     3.0\n",
       "3                        Assam    35.0\n",
       "4                        Bihar   106.5"
      ]
     },
     "execution_count": 11,
     "metadata": {},
     "output_type": "execute_result"
    }
   ],
   "source": [
    "#Imput missing values by median of each state\n",
    "stateMedianData=StatewiseTestingDetails.groupby('State')[['Positive']].median().\\\n",
    "                                    reset_index().rename(columns={'Positive':'Median'})\n",
    "stateMedianData.head()"
   ]
  },
  {
   "cell_type": "code",
   "execution_count": 12,
   "metadata": {},
   "outputs": [
    {
     "data": {
      "text/html": [
       "<div>\n",
       "<style scoped>\n",
       "    .dataframe tbody tr th:only-of-type {\n",
       "        vertical-align: middle;\n",
       "    }\n",
       "\n",
       "    .dataframe tbody tr th {\n",
       "        vertical-align: top;\n",
       "    }\n",
       "\n",
       "    .dataframe thead th {\n",
       "        text-align: right;\n",
       "    }\n",
       "</style>\n",
       "<table border=\"1\" class=\"dataframe\">\n",
       "  <thead>\n",
       "    <tr style=\"text-align: right;\">\n",
       "      <th></th>\n",
       "      <th>Date</th>\n",
       "      <th>State</th>\n",
       "      <th>TotalSamples</th>\n",
       "      <th>Negative</th>\n",
       "      <th>Positive</th>\n",
       "    </tr>\n",
       "  </thead>\n",
       "  <tbody>\n",
       "    <tr>\n",
       "      <th>0</th>\n",
       "      <td>17-04-2020</td>\n",
       "      <td>Andaman and Nicobar Islands</td>\n",
       "      <td>1403</td>\n",
       "      <td>1210.0</td>\n",
       "      <td>13.0</td>\n",
       "    </tr>\n",
       "    <tr>\n",
       "      <th>1</th>\n",
       "      <td>24-04-2020</td>\n",
       "      <td>Andaman and Nicobar Islands</td>\n",
       "      <td>2679</td>\n",
       "      <td>NaN</td>\n",
       "      <td>28.0</td>\n",
       "    </tr>\n",
       "    <tr>\n",
       "      <th>2</th>\n",
       "      <td>27-04-2020</td>\n",
       "      <td>Andaman and Nicobar Islands</td>\n",
       "      <td>2848</td>\n",
       "      <td>NaN</td>\n",
       "      <td>34.0</td>\n",
       "    </tr>\n",
       "    <tr>\n",
       "      <th>3</th>\n",
       "      <td>01-05-2020</td>\n",
       "      <td>Andaman and Nicobar Islands</td>\n",
       "      <td>3754</td>\n",
       "      <td>NaN</td>\n",
       "      <td>34.0</td>\n",
       "    </tr>\n",
       "    <tr>\n",
       "      <th>4</th>\n",
       "      <td>02-04-2020</td>\n",
       "      <td>Andhra Pradesh</td>\n",
       "      <td>1800</td>\n",
       "      <td>1175.0</td>\n",
       "      <td>133.0</td>\n",
       "    </tr>\n",
       "  </tbody>\n",
       "</table>\n",
       "</div>"
      ],
      "text/plain": [
       "         Date                        State  TotalSamples  Negative  Positive\n",
       "0  17-04-2020  Andaman and Nicobar Islands          1403    1210.0      13.0\n",
       "1  24-04-2020  Andaman and Nicobar Islands          2679       NaN      28.0\n",
       "2  27-04-2020  Andaman and Nicobar Islands          2848       NaN      34.0\n",
       "3  01-05-2020  Andaman and Nicobar Islands          3754       NaN      34.0\n",
       "4  02-04-2020               Andhra Pradesh          1800    1175.0     133.0"
      ]
     },
     "execution_count": 12,
     "metadata": {},
     "output_type": "execute_result"
    }
   ],
   "source": [
    "StatewiseTestingDetails.head()"
   ]
  },
  {
   "cell_type": "code",
   "execution_count": 13,
   "metadata": {},
   "outputs": [
    {
     "name": "stderr",
     "output_type": "stream",
     "text": [
      "C:\\Users\\Pankaj\\anaconda3\\lib\\site-packages\\ipykernel_launcher.py:3: SettingWithCopyWarning: \n",
      "A value is trying to be set on a copy of a slice from a DataFrame\n",
      "\n",
      "See the caveats in the documentation: https://pandas.pydata.org/pandas-docs/stable/user_guide/indexing.html#returning-a-view-versus-a-copy\n",
      "  This is separate from the ipykernel package so we can avoid doing imports until\n"
     ]
    }
   ],
   "source": [
    "for index,row in StatewiseTestingDetails.iterrows():\n",
    "    if pd.isnull(row['Positive']):\n",
    "        StatewiseTestingDetails['Positive'][index]=int(stateMedianData['Median'][stateMedianData['State']==row['State']])\n",
    "        "
   ]
  },
  {
   "cell_type": "code",
   "execution_count": 14,
   "metadata": {},
   "outputs": [
    {
     "data": {
      "text/plain": [
       "510        1.0\n",
       "501        1.0\n",
       "502        1.0\n",
       "503        1.0\n",
       "504        1.0\n",
       "        ...   \n",
       "456    10499.0\n",
       "457    11507.0\n",
       "458    12297.0\n",
       "459    12975.0\n",
       "460    14542.0\n",
       "Name: Positive, Length: 759, dtype: float64"
      ]
     },
     "execution_count": 14,
     "metadata": {},
     "output_type": "execute_result"
    }
   ],
   "source": [
    "StatewiseTestingDetails['Positive'].sort_values()"
   ]
  },
  {
   "cell_type": "code",
   "execution_count": 15,
   "metadata": {},
   "outputs": [],
   "source": [
    "#Merge StatewiseTestingDetails & population_india_census2011 dataframes\n",
    "data=pd.merge(StatewiseTestingDetails,population_india_census2011,on='State')"
   ]
  },
  {
   "cell_type": "code",
   "execution_count": 16,
   "metadata": {},
   "outputs": [
    {
     "data": {
      "text/plain": [
       "510        1.0\n",
       "501        1.0\n",
       "502        1.0\n",
       "503        1.0\n",
       "504        1.0\n",
       "        ...   \n",
       "456    10499.0\n",
       "457    11507.0\n",
       "458    12297.0\n",
       "459    12975.0\n",
       "460    14542.0\n",
       "Name: Positive, Length: 756, dtype: float64"
      ]
     },
     "execution_count": 16,
     "metadata": {},
     "output_type": "execute_result"
    }
   ],
   "source": [
    "##Sort the Data Frame\n",
    "data['Positive'].sort_values()"
   ]
  },
  {
   "cell_type": "code",
   "execution_count": 17,
   "metadata": {},
   "outputs": [],
   "source": [
    "#Write a function to create densityGroup bucket \n",
    "def densityCheck(data):\n",
    "    data['density_Group']=0\n",
    "    for index,row in data.iterrows():\n",
    "        status=None\n",
    "        i=row['Density'].split('/')[0]\n",
    "        try:\n",
    "            if (',' in i):\n",
    "                i=int(i.split(',')[0]+i.split(',')[1])\n",
    "            elif ('.' in i):\n",
    "                i=round(float(i))\n",
    "            else:\n",
    "                i=int(i)\n",
    "        except ValueError as err:\n",
    "            pass\n",
    "        try:\n",
    "            if (0<i<=300):\n",
    "                status='Dense1'\n",
    "            elif (300<i<=600):\n",
    "                status='Dense2'\n",
    "            elif (600<i<=900):\n",
    "                status='Dense3'\n",
    "            else:\n",
    "                status='Dense4'\n",
    "        except ValueError as err:\n",
    "            pass\n",
    "        data['density_Group'].iloc[index]=status\n",
    "    return data  \n",
    "    \n"
   ]
  },
  {
   "cell_type": "code",
   "execution_count": 18,
   "metadata": {},
   "outputs": [
    {
     "data": {
      "text/plain": [
       "Index(['Date', 'State', 'TotalSamples', 'Negative', 'Positive', 'Sno',\n",
       "       'Population', 'Rural population', 'Urban population', 'Area', 'Density',\n",
       "       'Gender Ratio'],\n",
       "      dtype='object')"
      ]
     },
     "execution_count": 18,
     "metadata": {},
     "output_type": "execute_result"
    }
   ],
   "source": [
    "data.columns\n"
   ]
  },
  {
   "cell_type": "code",
   "execution_count": 19,
   "metadata": {},
   "outputs": [
    {
     "data": {
      "text/plain": [
       "510        1.0\n",
       "501        1.0\n",
       "502        1.0\n",
       "503        1.0\n",
       "504        1.0\n",
       "        ...   \n",
       "456    10499.0\n",
       "457    11507.0\n",
       "458    12297.0\n",
       "459    12975.0\n",
       "460    14542.0\n",
       "Name: Positive, Length: 756, dtype: float64"
      ]
     },
     "execution_count": 19,
     "metadata": {},
     "output_type": "execute_result"
    }
   ],
   "source": [
    "data['Positive'].sort_values()"
   ]
  },
  {
   "cell_type": "code",
   "execution_count": 20,
   "metadata": {},
   "outputs": [
    {
     "name": "stderr",
     "output_type": "stream",
     "text": [
      "C:\\Users\\Pankaj\\anaconda3\\lib\\site-packages\\pandas\\core\\indexing.py:670: SettingWithCopyWarning: \n",
      "A value is trying to be set on a copy of a slice from a DataFrame\n",
      "\n",
      "See the caveats in the documentation: https://pandas.pydata.org/pandas-docs/stable/user_guide/indexing.html#returning-a-view-versus-a-copy\n",
      "  iloc._setitem_with_indexer(indexer, value)\n"
     ]
    }
   ],
   "source": [
    "#Map each state as per its density group\n",
    "data=densityCheck(data)\n",
    "#We'll export this data so we can use it for Two - way ANOVA test.\n",
    "stateDensity=data[['State','density_Group']].drop_duplicates().sort_values(by='State')\n"
   ]
  },
  {
   "cell_type": "code",
   "execution_count": 25,
   "metadata": {},
   "outputs": [
    {
     "data": {
      "text/plain": [
       "510        1.0\n",
       "501        1.0\n",
       "502        1.0\n",
       "503        1.0\n",
       "504        1.0\n",
       "        ...   \n",
       "456    10499.0\n",
       "457    11507.0\n",
       "458    12297.0\n",
       "459    12975.0\n",
       "460    14542.0\n",
       "Name: Positive, Length: 756, dtype: float64"
      ]
     },
     "execution_count": 25,
     "metadata": {},
     "output_type": "execute_result"
    }
   ],
   "source": [
    "data['Positive'].sort_values()"
   ]
  },
  {
   "cell_type": "code",
   "execution_count": 26,
   "metadata": {},
   "outputs": [],
   "source": [
    "data.to_csv('data.csv',index=False)\n",
    "stateDensity.to_csv('stateDensity.csv',index=False)\n"
   ]
  },
  {
   "cell_type": "code",
   "execution_count": 27,
   "metadata": {},
   "outputs": [
    {
     "data": {
      "text/html": [
       "<div>\n",
       "<style scoped>\n",
       "    .dataframe tbody tr th:only-of-type {\n",
       "        vertical-align: middle;\n",
       "    }\n",
       "\n",
       "    .dataframe tbody tr th {\n",
       "        vertical-align: top;\n",
       "    }\n",
       "\n",
       "    .dataframe thead th {\n",
       "        text-align: right;\n",
       "    }\n",
       "</style>\n",
       "<table border=\"1\" class=\"dataframe\">\n",
       "  <thead>\n",
       "    <tr style=\"text-align: right;\">\n",
       "      <th></th>\n",
       "      <th>Date</th>\n",
       "      <th>State</th>\n",
       "      <th>TotalSamples</th>\n",
       "      <th>Negative</th>\n",
       "      <th>Positive</th>\n",
       "      <th>Sno</th>\n",
       "      <th>Population</th>\n",
       "      <th>Rural population</th>\n",
       "      <th>Urban population</th>\n",
       "      <th>Area</th>\n",
       "      <th>Density</th>\n",
       "      <th>Gender Ratio</th>\n",
       "      <th>density_Group</th>\n",
       "    </tr>\n",
       "  </thead>\n",
       "  <tbody>\n",
       "    <tr>\n",
       "      <th>0</th>\n",
       "      <td>17-04-2020</td>\n",
       "      <td>Andaman and Nicobar Islands</td>\n",
       "      <td>1403</td>\n",
       "      <td>1210.0</td>\n",
       "      <td>13.0</td>\n",
       "      <td>34</td>\n",
       "      <td>380581</td>\n",
       "      <td>237093</td>\n",
       "      <td>143488</td>\n",
       "      <td>8,249 km2 (3,185 sq mi)</td>\n",
       "      <td>46/km2 (120/sq mi)</td>\n",
       "      <td>876</td>\n",
       "      <td>Dense1</td>\n",
       "    </tr>\n",
       "    <tr>\n",
       "      <th>1</th>\n",
       "      <td>24-04-2020</td>\n",
       "      <td>Andaman and Nicobar Islands</td>\n",
       "      <td>2679</td>\n",
       "      <td>NaN</td>\n",
       "      <td>28.0</td>\n",
       "      <td>34</td>\n",
       "      <td>380581</td>\n",
       "      <td>237093</td>\n",
       "      <td>143488</td>\n",
       "      <td>8,249 km2 (3,185 sq mi)</td>\n",
       "      <td>46/km2 (120/sq mi)</td>\n",
       "      <td>876</td>\n",
       "      <td>Dense1</td>\n",
       "    </tr>\n",
       "    <tr>\n",
       "      <th>2</th>\n",
       "      <td>27-04-2020</td>\n",
       "      <td>Andaman and Nicobar Islands</td>\n",
       "      <td>2848</td>\n",
       "      <td>NaN</td>\n",
       "      <td>34.0</td>\n",
       "      <td>34</td>\n",
       "      <td>380581</td>\n",
       "      <td>237093</td>\n",
       "      <td>143488</td>\n",
       "      <td>8,249 km2 (3,185 sq mi)</td>\n",
       "      <td>46/km2 (120/sq mi)</td>\n",
       "      <td>876</td>\n",
       "      <td>Dense1</td>\n",
       "    </tr>\n",
       "    <tr>\n",
       "      <th>3</th>\n",
       "      <td>01-05-2020</td>\n",
       "      <td>Andaman and Nicobar Islands</td>\n",
       "      <td>3754</td>\n",
       "      <td>NaN</td>\n",
       "      <td>34.0</td>\n",
       "      <td>34</td>\n",
       "      <td>380581</td>\n",
       "      <td>237093</td>\n",
       "      <td>143488</td>\n",
       "      <td>8,249 km2 (3,185 sq mi)</td>\n",
       "      <td>46/km2 (120/sq mi)</td>\n",
       "      <td>876</td>\n",
       "      <td>Dense1</td>\n",
       "    </tr>\n",
       "    <tr>\n",
       "      <th>4</th>\n",
       "      <td>02-04-2020</td>\n",
       "      <td>Andhra Pradesh</td>\n",
       "      <td>1800</td>\n",
       "      <td>1175.0</td>\n",
       "      <td>133.0</td>\n",
       "      <td>10</td>\n",
       "      <td>49577103</td>\n",
       "      <td>34966693</td>\n",
       "      <td>14610410</td>\n",
       "      <td>162,968 km2 (62,922 sq mi)</td>\n",
       "      <td>303/km2 (780/sq mi)</td>\n",
       "      <td>993</td>\n",
       "      <td>Dense2</td>\n",
       "    </tr>\n",
       "  </tbody>\n",
       "</table>\n",
       "</div>"
      ],
      "text/plain": [
       "         Date                        State  TotalSamples  Negative  Positive  \\\n",
       "0  17-04-2020  Andaman and Nicobar Islands          1403    1210.0      13.0   \n",
       "1  24-04-2020  Andaman and Nicobar Islands          2679       NaN      28.0   \n",
       "2  27-04-2020  Andaman and Nicobar Islands          2848       NaN      34.0   \n",
       "3  01-05-2020  Andaman and Nicobar Islands          3754       NaN      34.0   \n",
       "4  02-04-2020               Andhra Pradesh          1800    1175.0     133.0   \n",
       "\n",
       "   Sno  Population  Rural population  Urban population  \\\n",
       "0   34      380581            237093            143488   \n",
       "1   34      380581            237093            143488   \n",
       "2   34      380581            237093            143488   \n",
       "3   34      380581            237093            143488   \n",
       "4   10    49577103          34966693          14610410   \n",
       "\n",
       "                         Area              Density  Gender Ratio density_Group  \n",
       "0     8,249 km2 (3,185 sq mi)   46/km2 (120/sq mi)           876        Dense1  \n",
       "1     8,249 km2 (3,185 sq mi)   46/km2 (120/sq mi)           876        Dense1  \n",
       "2     8,249 km2 (3,185 sq mi)   46/km2 (120/sq mi)           876        Dense1  \n",
       "3     8,249 km2 (3,185 sq mi)   46/km2 (120/sq mi)           876        Dense1  \n",
       "4  162,968 km2 (62,922 sq mi)  303/km2 (780/sq mi)           993        Dense2  "
      ]
     },
     "execution_count": 27,
     "metadata": {},
     "output_type": "execute_result"
    }
   ],
   "source": [
    "data.head()"
   ]
  },
  {
   "cell_type": "code",
   "execution_count": 28,
   "metadata": {},
   "outputs": [
    {
     "data": {
      "text/html": [
       "<div>\n",
       "<style scoped>\n",
       "    .dataframe tbody tr th:only-of-type {\n",
       "        vertical-align: middle;\n",
       "    }\n",
       "\n",
       "    .dataframe tbody tr th {\n",
       "        vertical-align: top;\n",
       "    }\n",
       "\n",
       "    .dataframe thead th {\n",
       "        text-align: right;\n",
       "    }\n",
       "</style>\n",
       "<table border=\"1\" class=\"dataframe\">\n",
       "  <thead>\n",
       "    <tr style=\"text-align: right;\">\n",
       "      <th></th>\n",
       "      <th>TotalSamples</th>\n",
       "      <th>Negative</th>\n",
       "      <th>Positive</th>\n",
       "      <th>Sno</th>\n",
       "      <th>Population</th>\n",
       "      <th>Rural population</th>\n",
       "      <th>Urban population</th>\n",
       "      <th>Gender Ratio</th>\n",
       "    </tr>\n",
       "  </thead>\n",
       "  <tbody>\n",
       "    <tr>\n",
       "      <th>count</th>\n",
       "      <td>756.000000</td>\n",
       "      <td>622.000000</td>\n",
       "      <td>756.000000</td>\n",
       "      <td>756.000000</td>\n",
       "      <td>7.560000e+02</td>\n",
       "      <td>7.560000e+02</td>\n",
       "      <td>7.560000e+02</td>\n",
       "      <td>756.000000</td>\n",
       "    </tr>\n",
       "    <tr>\n",
       "      <th>mean</th>\n",
       "      <td>20809.206349</td>\n",
       "      <td>21024.863344</td>\n",
       "      <td>765.484127</td>\n",
       "      <td>15.423280</td>\n",
       "      <td>4.389466e+07</td>\n",
       "      <td>3.026369e+07</td>\n",
       "      <td>1.363096e+07</td>\n",
       "      <td>945.236772</td>\n",
       "    </tr>\n",
       "    <tr>\n",
       "      <th>std</th>\n",
       "      <td>30018.538287</td>\n",
       "      <td>30070.735073</td>\n",
       "      <td>1543.937276</td>\n",
       "      <td>9.688974</td>\n",
       "      <td>4.511697e+07</td>\n",
       "      <td>3.414342e+07</td>\n",
       "      <td>1.372764e+07</td>\n",
       "      <td>54.704173</td>\n",
       "    </tr>\n",
       "    <tr>\n",
       "      <th>min</th>\n",
       "      <td>58.000000</td>\n",
       "      <td>0.000000</td>\n",
       "      <td>1.000000</td>\n",
       "      <td>1.000000</td>\n",
       "      <td>2.740000e+05</td>\n",
       "      <td>2.899100e+04</td>\n",
       "      <td>1.434880e+05</td>\n",
       "      <td>818.000000</td>\n",
       "    </tr>\n",
       "    <tr>\n",
       "      <th>25%</th>\n",
       "      <td>2367.250000</td>\n",
       "      <td>2482.250000</td>\n",
       "      <td>34.000000</td>\n",
       "      <td>7.000000</td>\n",
       "      <td>6.864602e+06</td>\n",
       "      <td>2.627208e+06</td>\n",
       "      <td>1.026459e+06</td>\n",
       "      <td>918.000000</td>\n",
       "    </tr>\n",
       "    <tr>\n",
       "      <th>50%</th>\n",
       "      <td>8538.000000</td>\n",
       "      <td>8303.000000</td>\n",
       "      <td>213.000000</td>\n",
       "      <td>15.000000</td>\n",
       "      <td>3.120558e+07</td>\n",
       "      <td>1.960796e+07</td>\n",
       "      <td>9.620624e+06</td>\n",
       "      <td>948.000000</td>\n",
       "    </tr>\n",
       "    <tr>\n",
       "      <th>75%</th>\n",
       "      <td>24989.750000</td>\n",
       "      <td>24500.250000</td>\n",
       "      <td>726.250000</td>\n",
       "      <td>24.000000</td>\n",
       "      <td>6.854844e+07</td>\n",
       "      <td>3.746934e+07</td>\n",
       "      <td>2.006940e+07</td>\n",
       "      <td>976.000000</td>\n",
       "    </tr>\n",
       "    <tr>\n",
       "      <th>max</th>\n",
       "      <td>175323.000000</td>\n",
       "      <td>162349.000000</td>\n",
       "      <td>14542.000000</td>\n",
       "      <td>35.000000</td>\n",
       "      <td>1.998123e+08</td>\n",
       "      <td>1.553173e+08</td>\n",
       "      <td>5.081826e+07</td>\n",
       "      <td>1084.000000</td>\n",
       "    </tr>\n",
       "  </tbody>\n",
       "</table>\n",
       "</div>"
      ],
      "text/plain": [
       "        TotalSamples       Negative      Positive         Sno    Population  \\\n",
       "count     756.000000     622.000000    756.000000  756.000000  7.560000e+02   \n",
       "mean    20809.206349   21024.863344    765.484127   15.423280  4.389466e+07   \n",
       "std     30018.538287   30070.735073   1543.937276    9.688974  4.511697e+07   \n",
       "min        58.000000       0.000000      1.000000    1.000000  2.740000e+05   \n",
       "25%      2367.250000    2482.250000     34.000000    7.000000  6.864602e+06   \n",
       "50%      8538.000000    8303.000000    213.000000   15.000000  3.120558e+07   \n",
       "75%     24989.750000   24500.250000    726.250000   24.000000  6.854844e+07   \n",
       "max    175323.000000  162349.000000  14542.000000   35.000000  1.998123e+08   \n",
       "\n",
       "       Rural population  Urban population  Gender Ratio  \n",
       "count      7.560000e+02      7.560000e+02    756.000000  \n",
       "mean       3.026369e+07      1.363096e+07    945.236772  \n",
       "std        3.414342e+07      1.372764e+07     54.704173  \n",
       "min        2.899100e+04      1.434880e+05    818.000000  \n",
       "25%        2.627208e+06      1.026459e+06    918.000000  \n",
       "50%        1.960796e+07      9.620624e+06    948.000000  \n",
       "75%        3.746934e+07      2.006940e+07    976.000000  \n",
       "max        1.553173e+08      5.081826e+07   1084.000000  "
      ]
     },
     "execution_count": 28,
     "metadata": {},
     "output_type": "execute_result"
    }
   ],
   "source": [
    "data.describe()"
   ]
  },
  {
   "cell_type": "code",
   "execution_count": 29,
   "metadata": {},
   "outputs": [],
   "source": [
    "#Rearrange dataframe\n",
    "\n",
    "df=pd.DataFrame({'Dense1':data[data['density_Group']=='Dense1']['Positive'],\n",
    "                 'Dense2':data[data['density_Group']=='Dense2']['Positive'],\n",
    "                 'Dense3':data[data['density_Group']=='Dense3']['Positive'],\n",
    "                 'Dense4':data[data['density_Group']=='Dense4']['Positive']})\n",
    "\n"
   ]
  },
  {
   "cell_type": "code",
   "execution_count": 30,
   "metadata": {},
   "outputs": [
    {
     "data": {
      "text/plain": [
       "Date                  0\n",
       "State                 0\n",
       "TotalSamples          0\n",
       "Negative            134\n",
       "Positive              0\n",
       "Sno                   0\n",
       "Population            0\n",
       "Rural population      0\n",
       "Urban population      0\n",
       "Area                  0\n",
       "Density               0\n",
       "Gender Ratio          0\n",
       "density_Group         0\n",
       "dtype: int64"
      ]
     },
     "execution_count": 30,
     "metadata": {},
     "output_type": "execute_result"
    }
   ],
   "source": [
    "data.isna().sum()"
   ]
  },
  {
   "cell_type": "code",
   "execution_count": 31,
   "metadata": {},
   "outputs": [
    {
     "data": {
      "text/html": [
       "<div>\n",
       "<style scoped>\n",
       "    .dataframe tbody tr th:only-of-type {\n",
       "        vertical-align: middle;\n",
       "    }\n",
       "\n",
       "    .dataframe tbody tr th {\n",
       "        vertical-align: top;\n",
       "    }\n",
       "\n",
       "    .dataframe thead th {\n",
       "        text-align: right;\n",
       "    }\n",
       "</style>\n",
       "<table border=\"1\" class=\"dataframe\">\n",
       "  <thead>\n",
       "    <tr style=\"text-align: right;\">\n",
       "      <th></th>\n",
       "      <th>Date</th>\n",
       "      <th>State</th>\n",
       "      <th>TotalSamples</th>\n",
       "      <th>Negative</th>\n",
       "      <th>Positive</th>\n",
       "      <th>Sno</th>\n",
       "      <th>Population</th>\n",
       "      <th>Rural population</th>\n",
       "      <th>Urban population</th>\n",
       "      <th>Area</th>\n",
       "      <th>Density</th>\n",
       "      <th>Gender Ratio</th>\n",
       "      <th>density_Group</th>\n",
       "    </tr>\n",
       "  </thead>\n",
       "  <tbody>\n",
       "  </tbody>\n",
       "</table>\n",
       "</div>"
      ],
      "text/plain": [
       "Empty DataFrame\n",
       "Columns: [Date, State, TotalSamples, Negative, Positive, Sno, Population, Rural population, Urban population, Area, Density, Gender Ratio, density_Group]\n",
       "Index: []"
      ]
     },
     "execution_count": 31,
     "metadata": {},
     "output_type": "execute_result"
    }
   ],
   "source": [
    "data[data['Positive'].isna()]"
   ]
  },
  {
   "cell_type": "code",
   "execution_count": 32,
   "metadata": {},
   "outputs": [
    {
     "data": {
      "text/plain": [
       "Dense1    float64\n",
       "Dense2    float64\n",
       "Dense3    float64\n",
       "Dense4    float64\n",
       "dtype: object"
      ]
     },
     "execution_count": 32,
     "metadata": {},
     "output_type": "execute_result"
    }
   ],
   "source": [
    "df.dtypes"
   ]
  },
  {
   "cell_type": "code",
   "execution_count": 33,
   "metadata": {},
   "outputs": [],
   "source": [
    "####################### Approach 1.##########3"
   ]
  },
  {
   "cell_type": "code",
   "execution_count": 34,
   "metadata": {},
   "outputs": [],
   "source": [
    "np.random.seed(1234)\n",
    "dataNew=pd.DataFrame({'Dense1':random.sample(list(data['Positive'][data['density_Group']=='Dense1']), 10),\n",
    "                      'Dense2':random.sample(list(data['Positive'][data['density_Group']=='Dense1']), 10),\n",
    "                      'Dense3':random.sample(list(data['Positive'][data['density_Group']=='Dense1']), 10),\n",
    "                      'Dense4':random.sample(list(data['Positive'][data['density_Group']=='Dense1']), 10)})"
   ]
  },
  {
   "cell_type": "code",
   "execution_count": 35,
   "metadata": {},
   "outputs": [],
   "source": [
    "# np.random.seed(1234)\n",
    "# dataNew=pd.DataFrame({'Dense1':data['Positive'][data['density_Group']=='Dense1'],\n",
    "#                       'Dense2':data['Positive'][data['density_Group']=='Dense1'],\n",
    "#                       'Dense3':data['Positive'][data['density_Group']=='Dense1'],\n",
    "#                       'Dense4':data['Positive'][data['density_Group']=='Dense1']})"
   ]
  },
  {
   "cell_type": "code",
   "execution_count": null,
   "metadata": {},
   "outputs": [],
   "source": []
  },
  {
   "cell_type": "code",
   "execution_count": 36,
   "metadata": {},
   "outputs": [
    {
     "data": {
      "text/html": [
       "<div>\n",
       "<style scoped>\n",
       "    .dataframe tbody tr th:only-of-type {\n",
       "        vertical-align: middle;\n",
       "    }\n",
       "\n",
       "    .dataframe tbody tr th {\n",
       "        vertical-align: top;\n",
       "    }\n",
       "\n",
       "    .dataframe thead th {\n",
       "        text-align: right;\n",
       "    }\n",
       "</style>\n",
       "<table border=\"1\" class=\"dataframe\">\n",
       "  <thead>\n",
       "    <tr style=\"text-align: right;\">\n",
       "      <th></th>\n",
       "      <th>Dense1</th>\n",
       "      <th>Dense2</th>\n",
       "      <th>Dense3</th>\n",
       "      <th>Dense4</th>\n",
       "    </tr>\n",
       "  </thead>\n",
       "  <tbody>\n",
       "    <tr>\n",
       "      <th>0</th>\n",
       "      <td>3.0</td>\n",
       "      <td>2.0</td>\n",
       "      <td>1408.0</td>\n",
       "      <td>23.0</td>\n",
       "    </tr>\n",
       "    <tr>\n",
       "      <th>1</th>\n",
       "      <td>2035.0</td>\n",
       "      <td>702.0</td>\n",
       "      <td>2.0</td>\n",
       "      <td>19.0</td>\n",
       "    </tr>\n",
       "    <tr>\n",
       "      <th>2</th>\n",
       "      <td>40.0</td>\n",
       "      <td>34.0</td>\n",
       "      <td>2.0</td>\n",
       "      <td>42.0</td>\n",
       "    </tr>\n",
       "    <tr>\n",
       "      <th>3</th>\n",
       "      <td>2.0</td>\n",
       "      <td>41.0</td>\n",
       "      <td>2.0</td>\n",
       "      <td>36.0</td>\n",
       "    </tr>\n",
       "    <tr>\n",
       "      <th>4</th>\n",
       "      <td>107.0</td>\n",
       "      <td>1.0</td>\n",
       "      <td>13.0</td>\n",
       "      <td>1403.0</td>\n",
       "    </tr>\n",
       "  </tbody>\n",
       "</table>\n",
       "</div>"
      ],
      "text/plain": [
       "   Dense1  Dense2  Dense3  Dense4\n",
       "0     3.0     2.0  1408.0    23.0\n",
       "1  2035.0   702.0     2.0    19.0\n",
       "2    40.0    34.0     2.0    42.0\n",
       "3     2.0    41.0     2.0    36.0\n",
       "4   107.0     1.0    13.0  1403.0"
      ]
     },
     "execution_count": 36,
     "metadata": {},
     "output_type": "execute_result"
    }
   ],
   "source": [
    "dataNew.head()"
   ]
  },
  {
   "cell_type": "code",
   "execution_count": 37,
   "metadata": {},
   "outputs": [
    {
     "data": {
      "text/html": [
       "<div>\n",
       "<style scoped>\n",
       "    .dataframe tbody tr th:only-of-type {\n",
       "        vertical-align: middle;\n",
       "    }\n",
       "\n",
       "    .dataframe tbody tr th {\n",
       "        vertical-align: top;\n",
       "    }\n",
       "\n",
       "    .dataframe thead th {\n",
       "        text-align: right;\n",
       "    }\n",
       "</style>\n",
       "<table border=\"1\" class=\"dataframe\">\n",
       "  <thead>\n",
       "    <tr style=\"text-align: right;\">\n",
       "      <th></th>\n",
       "      <th>Dense1</th>\n",
       "      <th>Dense2</th>\n",
       "      <th>Dense3</th>\n",
       "      <th>Dense4</th>\n",
       "    </tr>\n",
       "  </thead>\n",
       "  <tbody>\n",
       "    <tr>\n",
       "      <th>count</th>\n",
       "      <td>10.000000</td>\n",
       "      <td>10.000000</td>\n",
       "      <td>10.000000</td>\n",
       "      <td>10.000000</td>\n",
       "    </tr>\n",
       "    <tr>\n",
       "      <th>mean</th>\n",
       "      <td>240.100000</td>\n",
       "      <td>427.800000</td>\n",
       "      <td>392.400000</td>\n",
       "      <td>425.900000</td>\n",
       "    </tr>\n",
       "    <tr>\n",
       "      <th>std</th>\n",
       "      <td>633.172164</td>\n",
       "      <td>856.306902</td>\n",
       "      <td>819.337293</td>\n",
       "      <td>544.963087</td>\n",
       "    </tr>\n",
       "    <tr>\n",
       "      <th>min</th>\n",
       "      <td>2.000000</td>\n",
       "      <td>1.000000</td>\n",
       "      <td>2.000000</td>\n",
       "      <td>1.000000</td>\n",
       "    </tr>\n",
       "    <tr>\n",
       "      <th>25%</th>\n",
       "      <td>2.000000</td>\n",
       "      <td>4.750000</td>\n",
       "      <td>2.000000</td>\n",
       "      <td>20.000000</td>\n",
       "    </tr>\n",
       "    <tr>\n",
       "      <th>50%</th>\n",
       "      <td>20.500000</td>\n",
       "      <td>35.000000</td>\n",
       "      <td>25.500000</td>\n",
       "      <td>39.000000</td>\n",
       "    </tr>\n",
       "    <tr>\n",
       "      <th>75%</th>\n",
       "      <td>90.250000</td>\n",
       "      <td>536.750000</td>\n",
       "      <td>48.500000</td>\n",
       "      <td>835.250000</td>\n",
       "    </tr>\n",
       "    <tr>\n",
       "      <th>max</th>\n",
       "      <td>2035.000000</td>\n",
       "      <td>2721.000000</td>\n",
       "      <td>2365.000000</td>\n",
       "      <td>1403.000000</td>\n",
       "    </tr>\n",
       "  </tbody>\n",
       "</table>\n",
       "</div>"
      ],
      "text/plain": [
       "            Dense1       Dense2       Dense3       Dense4\n",
       "count    10.000000    10.000000    10.000000    10.000000\n",
       "mean    240.100000   427.800000   392.400000   425.900000\n",
       "std     633.172164   856.306902   819.337293   544.963087\n",
       "min       2.000000     1.000000     2.000000     1.000000\n",
       "25%       2.000000     4.750000     2.000000    20.000000\n",
       "50%      20.500000    35.000000    25.500000    39.000000\n",
       "75%      90.250000   536.750000    48.500000   835.250000\n",
       "max    2035.000000  2721.000000  2365.000000  1403.000000"
      ]
     },
     "execution_count": 37,
     "metadata": {},
     "output_type": "execute_result"
    }
   ],
   "source": [
    "dataNew.describe()"
   ]
  },
  {
   "cell_type": "code",
   "execution_count": 38,
   "metadata": {},
   "outputs": [
    {
     "data": {
      "text/plain": [
       "3    2.0\n",
       "6    2.0\n",
       "7    2.0\n",
       "8    2.0\n",
       "0    3.0\n",
       "Name: Dense1, dtype: float64"
      ]
     },
     "execution_count": 38,
     "metadata": {},
     "output_type": "execute_result"
    }
   ],
   "source": [
    "dataNew['Dense1'].sort_values().head()"
   ]
  },
  {
   "cell_type": "code",
   "execution_count": 39,
   "metadata": {},
   "outputs": [
    {
     "data": {
      "text/html": [
       "<div>\n",
       "<style scoped>\n",
       "    .dataframe tbody tr th:only-of-type {\n",
       "        vertical-align: middle;\n",
       "    }\n",
       "\n",
       "    .dataframe tbody tr th {\n",
       "        vertical-align: top;\n",
       "    }\n",
       "\n",
       "    .dataframe thead th {\n",
       "        text-align: right;\n",
       "    }\n",
       "</style>\n",
       "<table border=\"1\" class=\"dataframe\">\n",
       "  <thead>\n",
       "    <tr style=\"text-align: right;\">\n",
       "      <th></th>\n",
       "      <th>Dense1</th>\n",
       "      <th>Dense2</th>\n",
       "      <th>Dense3</th>\n",
       "      <th>Dense4</th>\n",
       "    </tr>\n",
       "  </thead>\n",
       "  <tbody>\n",
       "    <tr>\n",
       "      <th>count</th>\n",
       "      <td>10.000000</td>\n",
       "      <td>10.000000</td>\n",
       "      <td>10.000000</td>\n",
       "      <td>10.000000</td>\n",
       "    </tr>\n",
       "    <tr>\n",
       "      <th>mean</th>\n",
       "      <td>240.100000</td>\n",
       "      <td>427.800000</td>\n",
       "      <td>392.400000</td>\n",
       "      <td>425.900000</td>\n",
       "    </tr>\n",
       "    <tr>\n",
       "      <th>std</th>\n",
       "      <td>633.172164</td>\n",
       "      <td>856.306902</td>\n",
       "      <td>819.337293</td>\n",
       "      <td>544.963087</td>\n",
       "    </tr>\n",
       "    <tr>\n",
       "      <th>min</th>\n",
       "      <td>2.000000</td>\n",
       "      <td>1.000000</td>\n",
       "      <td>2.000000</td>\n",
       "      <td>1.000000</td>\n",
       "    </tr>\n",
       "    <tr>\n",
       "      <th>25%</th>\n",
       "      <td>2.000000</td>\n",
       "      <td>4.750000</td>\n",
       "      <td>2.000000</td>\n",
       "      <td>20.000000</td>\n",
       "    </tr>\n",
       "    <tr>\n",
       "      <th>50%</th>\n",
       "      <td>20.500000</td>\n",
       "      <td>35.000000</td>\n",
       "      <td>25.500000</td>\n",
       "      <td>39.000000</td>\n",
       "    </tr>\n",
       "    <tr>\n",
       "      <th>75%</th>\n",
       "      <td>90.250000</td>\n",
       "      <td>536.750000</td>\n",
       "      <td>48.500000</td>\n",
       "      <td>835.250000</td>\n",
       "    </tr>\n",
       "    <tr>\n",
       "      <th>max</th>\n",
       "      <td>2035.000000</td>\n",
       "      <td>2721.000000</td>\n",
       "      <td>2365.000000</td>\n",
       "      <td>1403.000000</td>\n",
       "    </tr>\n",
       "  </tbody>\n",
       "</table>\n",
       "</div>"
      ],
      "text/plain": [
       "            Dense1       Dense2       Dense3       Dense4\n",
       "count    10.000000    10.000000    10.000000    10.000000\n",
       "mean    240.100000   427.800000   392.400000   425.900000\n",
       "std     633.172164   856.306902   819.337293   544.963087\n",
       "min       2.000000     1.000000     2.000000     1.000000\n",
       "25%       2.000000     4.750000     2.000000    20.000000\n",
       "50%      20.500000    35.000000    25.500000    39.000000\n",
       "75%      90.250000   536.750000    48.500000   835.250000\n",
       "max    2035.000000  2721.000000  2365.000000  1403.000000"
      ]
     },
     "execution_count": 39,
     "metadata": {},
     "output_type": "execute_result"
    }
   ],
   "source": [
    "dataNew.describe()"
   ]
  },
  {
   "cell_type": "code",
   "execution_count": 40,
   "metadata": {},
   "outputs": [
    {
     "data": {
      "text/plain": [
       "3    2.0\n",
       "6    2.0\n",
       "7    2.0\n",
       "8    2.0\n",
       "0    3.0\n",
       "Name: Dense1, dtype: float64"
      ]
     },
     "execution_count": 40,
     "metadata": {},
     "output_type": "execute_result"
    }
   ],
   "source": [
    "dataNew['Dense1'].sort_values().head()"
   ]
  },
  {
   "cell_type": "code",
   "execution_count": 41,
   "metadata": {},
   "outputs": [
    {
     "name": "stderr",
     "output_type": "stream",
     "text": [
      "C:\\Users\\Pankaj\\AppData\\Roaming\\Python\\Python37\\site-packages\\seaborn\\distributions.py:1659: FutureWarning: The `bw` parameter is deprecated in favor of `bw_method` and `bw_adjust`. Using 4 for `bw_method`, but please see the docs for the new parameters and update your code.\n",
      "  warnings.warn(msg, FutureWarning)\n",
      "C:\\Users\\Pankaj\\AppData\\Roaming\\Python\\Python37\\site-packages\\seaborn\\distributions.py:1659: FutureWarning: The `bw` parameter is deprecated in favor of `bw_method` and `bw_adjust`. Using 4 for `bw_method`, but please see the docs for the new parameters and update your code.\n",
      "  warnings.warn(msg, FutureWarning)\n",
      "C:\\Users\\Pankaj\\AppData\\Roaming\\Python\\Python37\\site-packages\\seaborn\\distributions.py:1659: FutureWarning: The `bw` parameter is deprecated in favor of `bw_method` and `bw_adjust`. Using 4 for `bw_method`, but please see the docs for the new parameters and update your code.\n",
      "  warnings.warn(msg, FutureWarning)\n",
      "C:\\Users\\Pankaj\\AppData\\Roaming\\Python\\Python37\\site-packages\\seaborn\\distributions.py:1659: FutureWarning: The `bw` parameter is deprecated in favor of `bw_method` and `bw_adjust`. Using 4 for `bw_method`, but please see the docs for the new parameters and update your code.\n",
      "  warnings.warn(msg, FutureWarning)\n"
     ]
    },
    {
     "data": {
      "text/plain": [
       "<AxesSubplot:title={'center':'density Group -Dense4 & Corona Cases'}, xlabel='density Group -Dense4', ylabel='Corona Cases'>"
      ]
     },
     "execution_count": 41,
     "metadata": {},
     "output_type": "execute_result"
    },
    {
     "data": {
      "image/png": "[encoded data removed]",
      "text/plain": [
       "<Figure size 720x720 with 4 Axes>"
      ]
     },
     "metadata": {
      "needs_background": "light"
     },
     "output_type": "display_data"
    }
   ],
   "source": [
    "#Plot number of Corona cases across different density groups to check their distribution.\n",
    "fig = plt.figure(figsize=(10,10))\n",
    "title = fig.suptitle(\"Corona cases across different density groups\", fontsize=14)\n",
    "fig.subplots_adjust(top=0.85, wspace=0.3)\n",
    "\n",
    "ax1 = fig.add_subplot(2,2,1)\n",
    "ax1.set_title(\"density Group-Dense1 & Corona Cases\")\n",
    "ax1.set_xlabel(\"density Group -Dense1\")\n",
    "ax1.set_ylabel(\"Corona Cases\") \n",
    "sns.kdeplot(dataNew['Dense1'], ax=ax1, shade=True,bw=4, color='g')\n",
    "\n",
    "ax2 = fig.add_subplot(2,2,2)\n",
    "ax2.set_title(\"density Group -Dense2 & Corona Cases\")\n",
    "ax2.set_xlabel(\"density Group -Dense2\")\n",
    "ax2.set_ylabel(\"Corona Cases\") \n",
    "sns.kdeplot(dataNew['Dense2'], ax=ax2, shade=True,bw=4, color='y')\n",
    "\n",
    "ax2 = fig.add_subplot(2,2,3)\n",
    "ax2.set_title(\"density Group -Dense2 & Corona Cases\")\n",
    "ax2.set_xlabel(\"density Group -Dense3\")\n",
    "ax2.set_ylabel(\"Corona Cases\") \n",
    "sns.kdeplot(dataNew['Dense3'], ax=ax2, shade=True,bw=4, color='r')\n",
    "\n",
    "ax2 = fig.add_subplot(2,2,4)\n",
    "ax2.set_title(\"density Group -Dense4 & Corona Cases\")\n",
    "ax2.set_xlabel(\"density Group -Dense4\")\n",
    "ax2.set_ylabel(\"Corona Cases\") \n",
    "sns.kdeplot(dataNew['Dense4'], ax=ax2, shade=True,bw=4, color='b')"
   ]
  },
  {
   "cell_type": "code",
   "execution_count": 42,
   "metadata": {},
   "outputs": [],
   "source": [
    "## Apply BoxCox Transformation to bring the data to close to Gaussian Distribution \n",
    "dataNew['Dense1'],fitted_lambda = stats.boxcox(dataNew['Dense1'])\n",
    "dataNew['Dense2'],fitted_lambda = stats.boxcox(dataNew['Dense2'])\n",
    "dataNew['Dense3'],fitted_lambda = stats.boxcox(dataNew['Dense3'])\n",
    "dataNew['Dense4'],fitted_lambda = stats.boxcox(dataNew['Dense4'])"
   ]
  },
  {
   "cell_type": "code",
   "execution_count": 43,
   "metadata": {},
   "outputs": [],
   "source": [
    "##Apply log transformation to treat outliers and to bring to normal distribution\n",
    "# dataNew = np.log(dataNew + 1)"
   ]
  },
  {
   "cell_type": "code",
   "execution_count": 44,
   "metadata": {},
   "outputs": [
    {
     "data": {
      "text/html": [
       "<div>\n",
       "<style scoped>\n",
       "    .dataframe tbody tr th:only-of-type {\n",
       "        vertical-align: middle;\n",
       "    }\n",
       "\n",
       "    .dataframe tbody tr th {\n",
       "        vertical-align: top;\n",
       "    }\n",
       "\n",
       "    .dataframe thead th {\n",
       "        text-align: right;\n",
       "    }\n",
       "</style>\n",
       "<table border=\"1\" class=\"dataframe\">\n",
       "  <thead>\n",
       "    <tr style=\"text-align: right;\">\n",
       "      <th></th>\n",
       "      <th>Dense1</th>\n",
       "      <th>Dense2</th>\n",
       "      <th>Dense3</th>\n",
       "      <th>Dense4</th>\n",
       "    </tr>\n",
       "  </thead>\n",
       "  <tbody>\n",
       "    <tr>\n",
       "      <th>count</th>\n",
       "      <td>10.000000</td>\n",
       "      <td>10.000000</td>\n",
       "      <td>10.000000</td>\n",
       "      <td>10.000000</td>\n",
       "    </tr>\n",
       "    <tr>\n",
       "      <th>mean</th>\n",
       "      <td>1.920703</td>\n",
       "      <td>3.150602</td>\n",
       "      <td>2.132335</td>\n",
       "      <td>5.122369</td>\n",
       "    </tr>\n",
       "    <tr>\n",
       "      <th>std</th>\n",
       "      <td>1.327335</td>\n",
       "      <td>2.436663</td>\n",
       "      <td>1.429185</td>\n",
       "      <td>3.071433</td>\n",
       "    </tr>\n",
       "    <tr>\n",
       "      <th>min</th>\n",
       "      <td>0.649049</td>\n",
       "      <td>0.000000</td>\n",
       "      <td>0.652900</td>\n",
       "      <td>0.000000</td>\n",
       "    </tr>\n",
       "    <tr>\n",
       "      <th>25%</th>\n",
       "      <td>0.649049</td>\n",
       "      <td>1.121804</td>\n",
       "      <td>0.652900</td>\n",
       "      <td>3.255607</td>\n",
       "    </tr>\n",
       "    <tr>\n",
       "      <th>50%</th>\n",
       "      <td>1.804655</td>\n",
       "      <td>3.311580</td>\n",
       "      <td>2.380918</td>\n",
       "      <td>4.059746</td>\n",
       "    </tr>\n",
       "    <tr>\n",
       "      <th>75%</th>\n",
       "      <td>2.975591</td>\n",
       "      <td>5.180996</td>\n",
       "      <td>2.817781</td>\n",
       "      <td>8.157580</td>\n",
       "    </tr>\n",
       "    <tr>\n",
       "      <th>max</th>\n",
       "      <td>4.004443</td>\n",
       "      <td>6.770364</td>\n",
       "      <td>4.255236</td>\n",
       "      <td>8.922823</td>\n",
       "    </tr>\n",
       "  </tbody>\n",
       "</table>\n",
       "</div>"
      ],
      "text/plain": [
       "          Dense1     Dense2     Dense3     Dense4\n",
       "count  10.000000  10.000000  10.000000  10.000000\n",
       "mean    1.920703   3.150602   2.132335   5.122369\n",
       "std     1.327335   2.436663   1.429185   3.071433\n",
       "min     0.649049   0.000000   0.652900   0.000000\n",
       "25%     0.649049   1.121804   0.652900   3.255607\n",
       "50%     1.804655   3.311580   2.380918   4.059746\n",
       "75%     2.975591   5.180996   2.817781   8.157580\n",
       "max     4.004443   6.770364   4.255236   8.922823"
      ]
     },
     "execution_count": 44,
     "metadata": {},
     "output_type": "execute_result"
    }
   ],
   "source": [
    "dataNew.describe()"
   ]
  },
  {
   "cell_type": "code",
   "execution_count": 45,
   "metadata": {},
   "outputs": [
    {
     "data": {
      "text/html": [
       "<div>\n",
       "<style scoped>\n",
       "    .dataframe tbody tr th:only-of-type {\n",
       "        vertical-align: middle;\n",
       "    }\n",
       "\n",
       "    .dataframe tbody tr th {\n",
       "        vertical-align: top;\n",
       "    }\n",
       "\n",
       "    .dataframe thead th {\n",
       "        text-align: right;\n",
       "    }\n",
       "</style>\n",
       "<table border=\"1\" class=\"dataframe\">\n",
       "  <thead>\n",
       "    <tr style=\"text-align: right;\">\n",
       "      <th></th>\n",
       "      <th>Dense1</th>\n",
       "      <th>Dense2</th>\n",
       "      <th>Dense3</th>\n",
       "      <th>Dense4</th>\n",
       "    </tr>\n",
       "  </thead>\n",
       "  <tbody>\n",
       "    <tr>\n",
       "      <th>0</th>\n",
       "      <td>0.990588</td>\n",
       "      <td>0.683538</td>\n",
       "      <td>4.115154</td>\n",
       "      <td>3.425274</td>\n",
       "    </tr>\n",
       "    <tr>\n",
       "      <th>1</th>\n",
       "      <td>4.004443</td>\n",
       "      <td>5.758469</td>\n",
       "      <td>0.652900</td>\n",
       "      <td>3.199051</td>\n",
       "    </tr>\n",
       "    <tr>\n",
       "      <th>2</th>\n",
       "      <td>2.644129</td>\n",
       "      <td>3.286823</td>\n",
       "      <td>0.652900</td>\n",
       "      <td>4.154211</td>\n",
       "    </tr>\n",
       "    <tr>\n",
       "      <th>3</th>\n",
       "      <td>0.649049</td>\n",
       "      <td>3.448578</td>\n",
       "      <td>0.652900</td>\n",
       "      <td>3.965281</td>\n",
       "    </tr>\n",
       "    <tr>\n",
       "      <th>4</th>\n",
       "      <td>3.086079</td>\n",
       "      <td>0.000000</td>\n",
       "      <td>2.068148</td>\n",
       "      <td>8.922823</td>\n",
       "    </tr>\n",
       "  </tbody>\n",
       "</table>\n",
       "</div>"
      ],
      "text/plain": [
       "     Dense1    Dense2    Dense3    Dense4\n",
       "0  0.990588  0.683538  4.115154  3.425274\n",
       "1  4.004443  5.758469  0.652900  3.199051\n",
       "2  2.644129  3.286823  0.652900  4.154211\n",
       "3  0.649049  3.448578  0.652900  3.965281\n",
       "4  3.086079  0.000000  2.068148  8.922823"
      ]
     },
     "execution_count": 45,
     "metadata": {},
     "output_type": "execute_result"
    }
   ],
   "source": [
    "dataNew.head()"
   ]
  },
  {
   "cell_type": "code",
   "execution_count": 46,
   "metadata": {},
   "outputs": [
    {
     "data": {
      "text/plain": [
       "count    10.000000\n",
       "mean      1.920703\n",
       "std       1.327335\n",
       "min       0.649049\n",
       "25%       0.649049\n",
       "50%       1.804655\n",
       "75%       2.975591\n",
       "max       4.004443\n",
       "Name: Dense1, dtype: float64"
      ]
     },
     "execution_count": 46,
     "metadata": {},
     "output_type": "execute_result"
    }
   ],
   "source": [
    "dataNew['Dense1'].describe()"
   ]
  },
  {
   "cell_type": "code",
   "execution_count": 47,
   "metadata": {},
   "outputs": [
    {
     "name": "stderr",
     "output_type": "stream",
     "text": [
      "C:\\Users\\Pankaj\\AppData\\Roaming\\Python\\Python37\\site-packages\\seaborn\\distributions.py:1659: FutureWarning: The `bw` parameter is deprecated in favor of `bw_method` and `bw_adjust`. Using 4 for `bw_method`, but please see the docs for the new parameters and update your code.\n",
      "  warnings.warn(msg, FutureWarning)\n",
      "C:\\Users\\Pankaj\\AppData\\Roaming\\Python\\Python37\\site-packages\\seaborn\\distributions.py:1659: FutureWarning: The `bw` parameter is deprecated in favor of `bw_method` and `bw_adjust`. Using 4 for `bw_method`, but please see the docs for the new parameters and update your code.\n",
      "  warnings.warn(msg, FutureWarning)\n",
      "C:\\Users\\Pankaj\\AppData\\Roaming\\Python\\Python37\\site-packages\\seaborn\\distributions.py:1659: FutureWarning: The `bw` parameter is deprecated in favor of `bw_method` and `bw_adjust`. Using 4 for `bw_method`, but please see the docs for the new parameters and update your code.\n",
      "  warnings.warn(msg, FutureWarning)\n",
      "C:\\Users\\Pankaj\\AppData\\Roaming\\Python\\Python37\\site-packages\\seaborn\\distributions.py:1659: FutureWarning: The `bw` parameter is deprecated in favor of `bw_method` and `bw_adjust`. Using 4 for `bw_method`, but please see the docs for the new parameters and update your code.\n",
      "  warnings.warn(msg, FutureWarning)\n"
     ]
    },
    {
     "data": {
      "text/plain": [
       "<AxesSubplot:title={'center':'density Group -Dense4 & Corona Cases'}, xlabel='density Group -Dense4', ylabel='Corona Cases'>"
      ]
     },
     "execution_count": 47,
     "metadata": {},
     "output_type": "execute_result"
    },
    {
     "data": {
      "image/png": "[encoded data removed]",
      "text/plain": [
       "<Figure size 720x720 with 4 Axes>"
      ]
     },
     "metadata": {
      "needs_background": "light"
     },
     "output_type": "display_data"
    }
   ],
   "source": [
    "#Plot different density groups\n",
    "fig = plt.figure(figsize=(10,10))\n",
    "title = fig.suptitle(\"Corona cases across different density groups\", fontsize=14)\n",
    "fig.subplots_adjust(top=0.85, wspace=0.3)\n",
    "\n",
    "ax1 = fig.add_subplot(2,2,1)\n",
    "ax1.set_title(\"density Group-Dense1 & Corona Cases\")\n",
    "ax1.set_xlabel(\"density Group -Dense1\")\n",
    "ax1.set_ylabel(\"Corona Cases\") \n",
    "sns.kdeplot(dataNew['Dense1'], ax=ax1, shade=True,bw=4, color='g')\n",
    "\n",
    "ax2 = fig.add_subplot(2,2,2)\n",
    "ax2.set_title(\"density Group -Dense2 & Corona Cases\")\n",
    "ax2.set_xlabel(\"density Group -Dense2\")\n",
    "ax2.set_ylabel(\"Corona Cases\") \n",
    "sns.kdeplot(dataNew['Dense2'], ax=ax2, shade=True,bw=4, color='y')\n",
    "\n",
    "ax2 = fig.add_subplot(2,2,3)\n",
    "ax2.set_title(\"density Group -Dense2 & Corona Cases\")\n",
    "ax2.set_xlabel(\"density Group -Dense3\")\n",
    "ax2.set_ylabel(\"Corona Cases\") \n",
    "sns.kdeplot(dataNew['Dense3'], ax=ax2, shade=True,bw=4, color='r')\n",
    "\n",
    "ax2 = fig.add_subplot(2,2,4)\n",
    "ax2.set_title(\"density Group -Dense4 & Corona Cases\")\n",
    "ax2.set_xlabel(\"density Group -Dense4\")\n",
    "ax2.set_ylabel(\"Corona Cases\") \n",
    "sns.kdeplot(dataNew['Dense4'], ax=ax2, shade=True,bw=4, color='b')"
   ]
  },
  {
   "cell_type": "code",
   "execution_count": 48,
   "metadata": {},
   "outputs": [
    {
     "data": {
      "text/plain": [
       "(0.8259181976318359, 0.02987656556069851)"
      ]
     },
     "execution_count": 48,
     "metadata": {},
     "output_type": "execute_result"
    }
   ],
   "source": [
    "##############Assumptions check - Normality\n",
    "stats.shapiro(dataNew['Dense1'])"
   ]
  },
  {
   "cell_type": "code",
   "execution_count": 49,
   "metadata": {},
   "outputs": [
    {
     "data": {
      "text/plain": [
       "(0.9173794388771057, 0.33561620116233826)"
      ]
     },
     "execution_count": 49,
     "metadata": {},
     "output_type": "execute_result"
    }
   ],
   "source": [
    "stats.shapiro(dataNew['Dense2'])"
   ]
  },
  {
   "cell_type": "code",
   "execution_count": 50,
   "metadata": {},
   "outputs": [
    {
     "data": {
      "text/plain": [
       "(0.8514583110809326, 0.06045568361878395)"
      ]
     },
     "execution_count": 50,
     "metadata": {},
     "output_type": "execute_result"
    }
   ],
   "source": [
    "stats.shapiro(dataNew['Dense3'])"
   ]
  },
  {
   "cell_type": "code",
   "execution_count": 51,
   "metadata": {},
   "outputs": [
    {
     "data": {
      "text/plain": [
       "(0.8846259713172913, 0.14739938080310822)"
      ]
     },
     "execution_count": 51,
     "metadata": {},
     "output_type": "execute_result"
    }
   ],
   "source": [
    "stats.shapiro(dataNew['Dense4'])\n"
   ]
  },
  {
   "cell_type": "code",
   "execution_count": 52,
   "metadata": {},
   "outputs": [
    {
     "data": {
      "text/plain": [
       "LeveneResult(statistic=2.154200632252307, pvalue=0.11043645635395591)"
      ]
     },
     "execution_count": 52,
     "metadata": {},
     "output_type": "execute_result"
    }
   ],
   "source": [
    "# Levene variance test  \n",
    "stats.levene(dataNew['Dense1'],dataNew['Dense2'],dataNew['Dense3'],dataNew['Dense4'])"
   ]
  },
  {
   "cell_type": "code",
   "execution_count": 53,
   "metadata": {},
   "outputs": [],
   "source": [
    "##p-value is more than 0.05 , So we can say that variances among groups are equal."
   ]
  },
  {
   "cell_type": "code",
   "execution_count": 54,
   "metadata": {},
   "outputs": [
    {
     "name": "stdout",
     "output_type": "stream",
     "text": [
      "F statistic = 4.462856104055426 p value : 0.009156853739401893\n"
     ]
    }
   ],
   "source": [
    "F, p = stats.f_oneway(dataNew['Dense1'],dataNew['Dense2'],dataNew['Dense3'],dataNew['Dense4'])\n",
    "print('F statistic =', F, 'p value :',p)"
   ]
  },
  {
   "cell_type": "code",
   "execution_count": 67,
   "metadata": {},
   "outputs": [
    {
     "name": "stdout",
     "output_type": "stream",
     "text": [
      "F-Statistic=5.817, p=0.002\n"
     ]
    }
   ],
   "source": [
    "F, p = stats.f_oneway(dataNew['Dense1'],dataNew['Dense2'],dataNew['Dense3'],dataNew['Dense4'])\n",
    "# Seeing if the overall model is significant\n",
    "print('F-Statistic=%.3f, p=%.3f' % (F, p))"
   ]
  },
  {
   "cell_type": "code",
   "execution_count": 52,
   "metadata": {},
   "outputs": [],
   "source": [
    "#Rearrange DataFrame\n",
    "newDf=dataNew.stack().to_frame().reset_index().rename(columns={'level_1':'density_Group',\n",
    "                                                               0:'Count'})\n",
    "del newDf['level_0']\n"
   ]
  },
  {
   "cell_type": "code",
   "execution_count": 53,
   "metadata": {},
   "outputs": [
    {
     "data": {
      "text/html": [
       "<table class=\"simpletable\">\n",
       "<caption>OLS Regression Results</caption>\n",
       "<tr>\n",
       "  <th>Dep. Variable:</th>          <td>Count</td>      <th>  R-squared:         </th> <td>   0.326</td>\n",
       "</tr>\n",
       "<tr>\n",
       "  <th>Model:</th>                   <td>OLS</td>       <th>  Adj. R-squared:    </th> <td>   0.270</td>\n",
       "</tr>\n",
       "<tr>\n",
       "  <th>Method:</th>             <td>Least Squares</td>  <th>  F-statistic:       </th> <td>   5.817</td>\n",
       "</tr>\n",
       "<tr>\n",
       "  <th>Date:</th>             <td>Wed, 13 May 2020</td> <th>  Prob (F-statistic):</th>  <td>0.00239</td>\n",
       "</tr>\n",
       "<tr>\n",
       "  <th>Time:</th>                 <td>16:22:54</td>     <th>  Log-Likelihood:    </th> <td> -90.411</td>\n",
       "</tr>\n",
       "<tr>\n",
       "  <th>No. Observations:</th>      <td>    40</td>      <th>  AIC:               </th> <td>   188.8</td>\n",
       "</tr>\n",
       "<tr>\n",
       "  <th>Df Residuals:</th>          <td>    36</td>      <th>  BIC:               </th> <td>   195.6</td>\n",
       "</tr>\n",
       "<tr>\n",
       "  <th>Df Model:</th>              <td>     3</td>      <th>                     </th>     <td> </td>   \n",
       "</tr>\n",
       "<tr>\n",
       "  <th>Covariance Type:</th>      <td>nonrobust</td>    <th>                     </th>     <td> </td>   \n",
       "</tr>\n",
       "</table>\n",
       "<table class=\"simpletable\">\n",
       "<tr>\n",
       "               <td></td>                 <th>coef</th>     <th>std err</th>      <th>t</th>      <th>P>|t|</th>  <th>[0.025</th>    <th>0.975]</th>  \n",
       "</tr>\n",
       "<tr>\n",
       "  <th>Intercept</th>                  <td>    3.3211</td> <td>    0.773</td> <td>    4.295</td> <td> 0.000</td> <td>    1.753</td> <td>    4.889</td>\n",
       "</tr>\n",
       "<tr>\n",
       "  <th>C(density_Group)[T.Dense2]</th> <td>    4.1236</td> <td>    1.093</td> <td>    3.771</td> <td> 0.001</td> <td>    1.906</td> <td>    6.341</td>\n",
       "</tr>\n",
       "<tr>\n",
       "  <th>C(density_Group)[T.Dense3]</th> <td>    1.3277</td> <td>    1.093</td> <td>    1.214</td> <td> 0.233</td> <td>   -0.890</td> <td>    3.545</td>\n",
       "</tr>\n",
       "<tr>\n",
       "  <th>C(density_Group)[T.Dense4]</th> <td>    0.3705</td> <td>    1.093</td> <td>    0.339</td> <td> 0.737</td> <td>   -1.847</td> <td>    2.588</td>\n",
       "</tr>\n",
       "</table>\n",
       "<table class=\"simpletable\">\n",
       "<tr>\n",
       "  <th>Omnibus:</th>       <td> 4.464</td> <th>  Durbin-Watson:     </th> <td>   1.725</td>\n",
       "</tr>\n",
       "<tr>\n",
       "  <th>Prob(Omnibus):</th> <td> 0.107</td> <th>  Jarque-Bera (JB):  </th> <td>   1.833</td>\n",
       "</tr>\n",
       "<tr>\n",
       "  <th>Skew:</th>          <td>-0.084</td> <th>  Prob(JB):          </th> <td>   0.400</td>\n",
       "</tr>\n",
       "<tr>\n",
       "  <th>Kurtosis:</th>      <td> 1.965</td> <th>  Cond. No.          </th> <td>    4.79</td>\n",
       "</tr>\n",
       "</table><br/><br/>Warnings:<br/>[1] Standard Errors assume that the covariance matrix of the errors is correctly specified."
      ],
      "text/plain": [
       "<class 'statsmodels.iolib.summary.Summary'>\n",
       "\"\"\"\n",
       "                            OLS Regression Results                            \n",
       "==============================================================================\n",
       "Dep. Variable:                  Count   R-squared:                       0.326\n",
       "Model:                            OLS   Adj. R-squared:                  0.270\n",
       "Method:                 Least Squares   F-statistic:                     5.817\n",
       "Date:                Wed, 13 May 2020   Prob (F-statistic):            0.00239\n",
       "Time:                        16:22:54   Log-Likelihood:                -90.411\n",
       "No. Observations:                  40   AIC:                             188.8\n",
       "Df Residuals:                      36   BIC:                             195.6\n",
       "Df Model:                           3                                         \n",
       "Covariance Type:            nonrobust                                         \n",
       "==============================================================================================\n",
       "                                 coef    std err          t      P>|t|      [0.025      0.975]\n",
       "----------------------------------------------------------------------------------------------\n",
       "Intercept                      3.3211      0.773      4.295      0.000       1.753       4.889\n",
       "C(density_Group)[T.Dense2]     4.1236      1.093      3.771      0.001       1.906       6.341\n",
       "C(density_Group)[T.Dense3]     1.3277      1.093      1.214      0.233      -0.890       3.545\n",
       "C(density_Group)[T.Dense4]     0.3705      1.093      0.339      0.737      -1.847       2.588\n",
       "==============================================================================\n",
       "Omnibus:                        4.464   Durbin-Watson:                   1.725\n",
       "Prob(Omnibus):                  0.107   Jarque-Bera (JB):                1.833\n",
       "Skew:                          -0.084   Prob(JB):                        0.400\n",
       "Kurtosis:                       1.965   Cond. No.                         4.79\n",
       "==============================================================================\n",
       "\n",
       "Warnings:\n",
       "[1] Standard Errors assume that the covariance matrix of the errors is correctly specified.\n",
       "\"\"\""
      ]
     },
     "execution_count": 53,
     "metadata": {},
     "output_type": "execute_result"
    }
   ],
   "source": [
    "################ using Ols Model\n",
    "model = ols('Count ~ C(density_Group)', newDf).fit()\n",
    "model.summary()"
   ]
  },
  {
   "cell_type": "code",
   "execution_count": 68,
   "metadata": {},
   "outputs": [
    {
     "name": "stdout",
     "output_type": "stream",
     "text": [
      "Overall model F( 3, 36) =  5.817, p =  0.0024\n"
     ]
    }
   ],
   "source": [
    "# Seeing if the overall model is significant\n",
    "print(f\"Overall model F({model.df_model: .0f},{model.df_resid: .0f}) = {model.fvalue: .3f}, p = {model.f_pvalue: .4f}\")"
   ]
  },
  {
   "cell_type": "code",
   "execution_count": 55,
   "metadata": {},
   "outputs": [
    {
     "data": {
      "text/html": [
       "<div>\n",
       "<style scoped>\n",
       "    .dataframe tbody tr th:only-of-type {\n",
       "        vertical-align: middle;\n",
       "    }\n",
       "\n",
       "    .dataframe tbody tr th {\n",
       "        vertical-align: top;\n",
       "    }\n",
       "\n",
       "    .dataframe thead th {\n",
       "        text-align: right;\n",
       "    }\n",
       "</style>\n",
       "<table border=\"1\" class=\"dataframe\">\n",
       "  <thead>\n",
       "    <tr style=\"text-align: right;\">\n",
       "      <th></th>\n",
       "      <th>sum_sq</th>\n",
       "      <th>df</th>\n",
       "      <th>F</th>\n",
       "      <th>PR(&gt;F)</th>\n",
       "    </tr>\n",
       "  </thead>\n",
       "  <tbody>\n",
       "    <tr>\n",
       "      <th>C(density_Group)</th>\n",
       "      <td>104.308564</td>\n",
       "      <td>3.0</td>\n",
       "      <td>5.816539</td>\n",
       "      <td>0.002389</td>\n",
       "    </tr>\n",
       "    <tr>\n",
       "      <th>Residual</th>\n",
       "      <td>215.197180</td>\n",
       "      <td>36.0</td>\n",
       "      <td>NaN</td>\n",
       "      <td>NaN</td>\n",
       "    </tr>\n",
       "  </tbody>\n",
       "</table>\n",
       "</div>"
      ],
      "text/plain": [
       "                      sum_sq    df         F    PR(>F)\n",
       "C(density_Group)  104.308564   3.0  5.816539  0.002389\n",
       "Residual          215.197180  36.0       NaN       NaN"
      ]
     },
     "execution_count": 55,
     "metadata": {},
     "output_type": "execute_result"
    }
   ],
   "source": [
    "# Creates the ANOVA table\n",
    "res = sm.stats.anova_lm(model, typ= 2)\n",
    "res"
   ]
  },
  {
   "cell_type": "code",
   "execution_count": 56,
   "metadata": {},
   "outputs": [],
   "source": [
    "#The F-statistic= 76.48 and the p-value= 8.557817e-33 which is indicating that there is an overall significant \n",
    "#effect of density_Group on corona positive cases. However, we don’t know where the difference between desnity_groups is yet.\n",
    "# This is in the post-hoc section. \n",
    "\n",
    "#So Based on p-value we can reject the H0; that is there's no significant difference as per density of an area \n",
    "#and number of corona cases"
   ]
  },
  {
   "cell_type": "code",
   "execution_count": 57,
   "metadata": {},
   "outputs": [],
   "source": [
    "#So what if you find statistical significance?  Multiple comparison tests\n",
    "\n",
    "#When you conduct an ANOVA, you are attempting to determine if there is a statistically significant difference among the groups.\n",
    "#If you find that there is a difference, you will then need to examine where the group differences lay."
   ]
  },
  {
   "cell_type": "code",
   "execution_count": 58,
   "metadata": {},
   "outputs": [
    {
     "data": {
      "text/plain": [
       "density_Group     object\n",
       "Count            float64\n",
       "dtype: object"
      ]
     },
     "execution_count": 58,
     "metadata": {},
     "output_type": "execute_result"
    }
   ],
   "source": [
    "newDf.dtypes"
   ]
  },
  {
   "cell_type": "code",
   "execution_count": 59,
   "metadata": {},
   "outputs": [
    {
     "data": {
      "text/html": [
       "<div>\n",
       "<style scoped>\n",
       "    .dataframe tbody tr th:only-of-type {\n",
       "        vertical-align: middle;\n",
       "    }\n",
       "\n",
       "    .dataframe tbody tr th {\n",
       "        vertical-align: top;\n",
       "    }\n",
       "\n",
       "    .dataframe thead th {\n",
       "        text-align: right;\n",
       "    }\n",
       "</style>\n",
       "<table border=\"1\" class=\"dataframe\">\n",
       "  <thead>\n",
       "    <tr style=\"text-align: right;\">\n",
       "      <th></th>\n",
       "      <th>density_Group</th>\n",
       "      <th>Count</th>\n",
       "    </tr>\n",
       "  </thead>\n",
       "  <tbody>\n",
       "    <tr>\n",
       "      <th>0</th>\n",
       "      <td>Dense1</td>\n",
       "      <td>5.089940</td>\n",
       "    </tr>\n",
       "    <tr>\n",
       "      <th>1</th>\n",
       "      <td>Dense2</td>\n",
       "      <td>10.470520</td>\n",
       "    </tr>\n",
       "    <tr>\n",
       "      <th>2</th>\n",
       "      <td>Dense3</td>\n",
       "      <td>6.816592</td>\n",
       "    </tr>\n",
       "    <tr>\n",
       "      <th>3</th>\n",
       "      <td>Dense4</td>\n",
       "      <td>5.316842</td>\n",
       "    </tr>\n",
       "    <tr>\n",
       "      <th>4</th>\n",
       "      <td>Dense1</td>\n",
       "      <td>3.507428</td>\n",
       "    </tr>\n",
       "  </tbody>\n",
       "</table>\n",
       "</div>"
      ],
      "text/plain": [
       "  density_Group      Count\n",
       "0        Dense1   5.089940\n",
       "1        Dense2  10.470520\n",
       "2        Dense3   6.816592\n",
       "3        Dense4   5.316842\n",
       "4        Dense1   3.507428"
      ]
     },
     "execution_count": 59,
     "metadata": {},
     "output_type": "execute_result"
    }
   ],
   "source": [
    "newDf.head()"
   ]
  },
  {
   "cell_type": "code",
   "execution_count": 60,
   "metadata": {},
   "outputs": [
    {
     "name": "stdout",
     "output_type": "stream",
     "text": [
      "Multiple Comparison of Means - Tukey HSD, FWER=0.05 \n",
      "====================================================\n",
      "group1 group2 meandiff p-adj   lower   upper  reject\n",
      "----------------------------------------------------\n",
      "Dense1 Dense2   4.1236 0.0031  1.1788  7.0685   True\n",
      "Dense1 Dense3   1.3277 0.6094 -1.6171  4.2725  False\n",
      "Dense1 Dense4   0.3705    0.9 -2.5743  3.3154  False\n",
      "Dense2 Dense3  -2.7959  0.068 -5.7408  0.1489  False\n",
      "Dense2 Dense4  -3.7531 0.0079 -6.6979 -0.8083   True\n",
      "Dense3 Dense4  -0.9572 0.7965  -3.902  1.9877  False\n",
      "----------------------------------------------------\n"
     ]
    }
   ],
   "source": [
    "#Post hoc test\n",
    "mc = statsmodels.stats.multicomp.MultiComparison(newDf['Count'],newDf['density_Group'])\n",
    "mc_results = mc.tukeyhsd()\n",
    "print(mc_results)"
   ]
  },
  {
   "cell_type": "code",
   "execution_count": 61,
   "metadata": {},
   "outputs": [],
   "source": [
    "#tuckey HSD test clearly says that there's a significant difference between Group1 & Group4"
   ]
  },
  {
   "cell_type": "code",
   "execution_count": 62,
   "metadata": {},
   "outputs": [],
   "source": [
    "#Above results from Tukey HSD suggests that except Dense1-Dense4 groups, all other pairwise comparisons for number of \n",
    "#corona cases rejects null hypothesis and indicates statistical significant differences."
   ]
  },
  {
   "cell_type": "code",
   "execution_count": 63,
   "metadata": {},
   "outputs": [
    {
     "name": "stdout",
     "output_type": "stream",
     "text": [
      "0.9612231254577637 0.1843944638967514\n"
     ]
    }
   ],
   "source": [
    "### Normality Assumption check\n",
    "w, pvalue = stats.shapiro(model.resid)\n",
    "print(w, pvalue)"
   ]
  },
  {
   "cell_type": "code",
   "execution_count": 64,
   "metadata": {},
   "outputs": [
    {
     "name": "stdout",
     "output_type": "stream",
     "text": [
      "4.0618671528689685 0.2548606240430252\n"
     ]
    }
   ],
   "source": [
    "#Homogeneity of variances Assumption check\n",
    "w, pvalue = stats.bartlett(newDf['Count'][newDf['density_Group']=='Dense1'], newDf['Count'][newDf['density_Group']=='Dense2']\n",
    "                           , newDf['Count'][newDf['density_Group']=='Dense3'], newDf['Count'][newDf['density_Group']=='Dense4'])\n",
    "print(w, pvalue)"
   ]
  },
  {
   "cell_type": "code",
   "execution_count": 65,
   "metadata": {},
   "outputs": [
    {
     "data": {
      "image/png": "[encoded data removed]",
      "text/plain": [
       "<Figure size 432x288 with 1 Axes>"
      ]
     },
     "metadata": {
      "needs_background": "light"
     },
     "output_type": "display_data"
    }
   ],
   "source": [
    "## Q-Q Plot for Normal Distribution check-\n",
    "#Check the Normal distribution of residuals\n",
    "res = model.resid \n",
    "fig = sm.qqplot(res, line='s')\n",
    "plt.show()"
   ]
  },
  {
   "cell_type": "code",
   "execution_count": null,
   "metadata": {},
   "outputs": [],
   "source": []
  },
  {
   "cell_type": "code",
   "execution_count": null,
   "metadata": {},
   "outputs": [],
   "source": []
  }
 ],
 "metadata": {
  "kernelspec": {
   "display_name": "Python 3",
   "language": "python",
   "name": "python3"
  },
  "language_info": {
   "codemirror_mode": {
    "name": "ipython",
    "version": 3
   },
   "file_extension": ".py",
   "mimetype": "text/x-python",
   "name": "python",
   "nbconvert_exporter": "python",
   "pygments_lexer": "ipython3",
   "version": "3.7.6"
  }
 },
 "nbformat": 4,
 "nbformat_minor": 4
}
